{
 "cells": [
  {
   "cell_type": "markdown",
   "metadata": {},
   "source": [
"# Traveling Salesman Problem (TSP) - Computational Intelligence Lab\n",
    "\n",
   ]
  },
  {
   "cell_type": "code",
   "execution_count": 11,
   "metadata": {},
   "outputs": [
    {
     "data": {
      "text/html": [
       "<div>\n",
       "<style scoped>\n",
       "    .dataframe tbody tr th:only-of-type {\n",
       "        vertical-align: middle;\n",
       "    }\n",
       "\n",
       "    .dataframe tbody tr th {\n",
       "        vertical-align: top;\n",
       "    }\n",
       "\n",
       "    .dataframe thead th {\n",
       "        text-align: right;\n",
       "    }\n",
       "</style>\n",
       "<table border=\"1\" class=\"dataframe\">\n",
       "  <thead>\n",
       "    <tr style=\"text-align: right;\">\n",
       "      <th></th>\n",
       "      <th>name</th>\n",
       "      <th>lat</th>\n",
       "      <th>lon</th>\n",
       "    </tr>\n",
       "  </thead>\n",
       "  <tbody>\n",
       "    <tr>\n",
       "      <th>0</th>\n",
       "      <td>Ancona</td>\n",
       "      <td>43.60</td>\n",
       "      <td>13.50</td>\n",
       "    </tr>\n",
       "    <tr>\n",
       "      <th>1</th>\n",
       "      <td>Andria</td>\n",
       "      <td>41.23</td>\n",
       "      <td>16.29</td>\n",
       "    </tr>\n",
       "    <tr>\n",
       "      <th>2</th>\n",
       "      <td>Bari</td>\n",
       "      <td>41.12</td>\n",
       "      <td>16.87</td>\n",
       "    </tr>\n",
       "    <tr>\n",
       "      <th>3</th>\n",
       "      <td>Bergamo</td>\n",
       "      <td>45.70</td>\n",
       "      <td>9.67</td>\n",
       "    </tr>\n",
       "    <tr>\n",
       "      <th>4</th>\n",
       "      <td>Bologna</td>\n",
       "      <td>44.50</td>\n",
       "      <td>11.34</td>\n",
       "    </tr>\n",
       "  </tbody>\n",
       "</table>\n",
       "</div>"
      ],
      "text/plain": [
       "      name    lat    lon\n",
       "0   Ancona  43.60  13.50\n",
       "1   Andria  41.23  16.29\n",
       "2     Bari  41.12  16.87\n",
       "3  Bergamo  45.70   9.67\n",
       "4  Bologna  44.50  11.34"
      ]
     },
     "execution_count": 11,
     "metadata": {},
     "output_type": "execute_result"
    }
   ],
   "source": [
    "from itertools import combinations\n",
    "import pandas as pd\n",
    "import numpy as np\n",
    "from geopy.distance import geodesic\n",
    "import matplotlib.pyplot as plt\n",
    "import random\n",
    "from dataclasses import dataclass\n",
    "from tqdm import tqdm\n",
    "\n",
    "# Load the data: each file represents a set of cities with latitude and longitude\n",
    "FILE_PATH = 'cities/italy.csv'  # Change this path to select another dataset\n",
    "\n",
    "# Load cities data\n",
    "CITIES = pd.read_csv(FILE_PATH, header=None, names=['name', 'lat', 'lon'])\n",
    "\n",
    "# Number of cities\n",
    "NUM_CITIES = len(CITIES)\n",
    "\n",
    "# Compute the distance matrix (in kilometers)\n",
    "DIST_MATRIX = np.zeros((NUM_CITIES, NUM_CITIES))\n",
    "for city1, city2 in combinations(CITIES.itertuples(), 2):\n",
    "    DIST_MATRIX[city1.Index, city2.Index] = DIST_MATRIX[city2.Index, city1.Index] = geodesic(\n",
    "        (city1.lat, city1.lon), (city2.lat, city2.lon)\n",
    "    ).km\n",
    "\n",
    "\n",
    "# Display the first few cities for verification\n",
    "CITIES.head()"
   ]
  },
  {
   "cell_type": "markdown",
   "metadata": {},
   "source": [
    "## Define Utility Functions"
   ]
  },
  {
   "cell_type": "code",
   "execution_count": 2,
   "metadata": {},
   "outputs": [],
   "source": [
    "# Function to compute the total cost (distance) of a tour\n",
    "def compute_tour_distance(tour):\n",
    "    \"\"\"Compute the total distance of a TSP tour.\"\"\"\n",
    "    total_distance = sum(float(DIST_MATRIX[int(tour[i]), int(tour[i + 1])]) for i in range(len(tour) - 1))\n",
    "    return total_distance  # Ensure it returns a scalar float\n",
    "\n",
    "\n",
    "# Function to check if a solution is a valid Hamiltonian cycle\n",
    "def is_valid_tour(tour):\n",
    "    \"\"\"Check if the tour is a valid Hamiltonian cycle.\"\"\"\n",
    "    return len(tour) == NUM_CITIES + 1 and tour[0] == tour[-1] and len(set(tour[:-1])) == NUM_CITIES"
   ]
  },
  {
   "cell_type": "markdown",
   "metadata": {},
   "source": [
    "## Section 3: Fast Approximate Algorithm - Greedy Approach"
   ]
  },
  {
   "cell_type": "code",
   "execution_count": 3,
   "metadata": {},
   "outputs": [
    {
     "name": "stdout",
     "output_type": "stream",
     "text": [
      "Greedy Algorithm Results:\n",
      "Tour: [0, np.int64(33), np.int64(12), np.int64(30), np.int64(9), np.int64(4), np.int64(19), np.int64(32), np.int64(25), np.int64(28), np.int64(18), np.int64(20), np.int64(3), np.int64(6), np.int64(44), np.int64(45), np.int64(23), np.int64(43), np.int64(41), np.int64(5), np.int64(40), np.int64(22), np.int64(42), np.int64(13), np.int64(16), np.int64(29), np.int64(10), np.int64(26), np.int64(39), np.int64(34), np.int64(15), np.int64(14), np.int64(21), np.int64(35), np.int64(11), np.int64(1), np.int64(2), np.int64(38), np.int64(17), np.int64(31), np.int64(8), np.int64(37), np.int64(24), np.int64(7), np.int64(36), np.int64(27), 0]\n",
      "Total Distance: 4436.03 km\n",
      "Is valid tour: Yes\n"
     ]
    }
   ],
   "source": [
    "def greedy_tsp():\n",
    "    \"\"\"Greedy algorithm for TSP: always visit the nearest unvisited city.\"\"\"\n",
    "    visited = np.full(NUM_CITIES, False)\n",
    "    current_city = 0\n",
    "    tour = [current_city]\n",
    "    visited[current_city] = True\n",
    "\n",
    "    while len(tour) < NUM_CITIES:\n",
    "        distances = DIST_MATRIX[current_city].copy()\n",
    "        distances[visited] = np.inf  # Ignore already visited cities\n",
    "        next_city = np.argmin(distances)\n",
    "        tour.append(next_city)\n",
    "        visited[next_city] = True\n",
    "        current_city = next_city\n",
    "\n",
    "    tour.append(tour[0])  # Return to the starting city to complete the cycle\n",
    "    return tour\n",
    "\n",
    "# Run the greedy algorithm\n",
    "greedy_tour = greedy_tsp()\n",
    "greedy_distance = compute_tour_distance(greedy_tour)\n",
    "\n",
    "# Display results\n",
    "print(\"Greedy Algorithm Results:\")\n",
    "print(f\"Tour: {greedy_tour}\")\n",
    "print(f\"Total Distance: {greedy_distance:.2f} km\")\n",
    "print(f\"Is valid tour: {'Yes' if is_valid_tour(greedy_tour) else 'No'}\")"
   ]
  },
  {
   "cell_type": "markdown",
   "metadata": {},
   "source": [
    "## Section 4: Slower but More Accurate Algorithm - Hill Climbing with Mutation"
   ]
  },
  {
   "cell_type": "code",
   "execution_count": 4,
   "metadata": {},
   "outputs": [
    {
     "name": "stdout",
     "output_type": "stream",
     "text": [
      "Hill Climbing Algorithm Results:\n",
      "Tour: [43, 4, 29, 10, 12, 30, 33, 0, 41, 45, 44, 40, 5, 3, 22, 42, 37, 8, 15, 16, 32, 25, 28, 13, 18, 20, 6, 19, 27, 11, 1, 2, 38, 35, 14, 21, 36, 7, 24, 31, 17, 34, 39, 26, 9, 23, 43]\n",
      "Total Distance: 7111.20 km\n",
      "Is valid tour: Yes\n"
     ]
    }
   ],
   "source": [
    "# Fitness function: the lower the distance, the higher the fitness\n",
    "def fitness(tour):\n",
    "    return -compute_tour_distance(tour)\n",
    "\n",
    "# Mutation function: swap two random cities in the tour (except start/end)\n",
    "def swap_mutation(tour):\n",
    "    new_tour = tour.copy()\n",
    "    idx1, idx2 = np.random.randint(1, NUM_CITIES), np.random.randint(1, NUM_CITIES)\n",
    "    new_tour[idx1], new_tour[idx2] = new_tour[idx2], new_tour[idx1]\n",
    "    return new_tour\n",
    "\n",
    "# Hill climbing algorithm with mutation\n",
    "def hill_climbing_tsp(max_steps=5000):\n",
    "    \"\"\"Hill Climbing algorithm for TSP using swap mutation.\"\"\"\n",
    "    current_tour = list(range(NUM_CITIES))\n",
    "    random.shuffle(current_tour)\n",
    "    current_tour.append(current_tour[0])  # Make it a cycle\n",
    "\n",
    "    current_fitness = fitness(current_tour)\n",
    "    best_tour = current_tour\n",
    "    best_fitness = current_fitness\n",
    "\n",
    "    for _ in range(max_steps):\n",
    "        new_tour = swap_mutation(current_tour)\n",
    "        new_fitness = fitness(new_tour)\n",
    "        \n",
    "        if new_fitness > current_fitness:\n",
    "            current_tour = new_tour\n",
    "            current_fitness = new_fitness\n",
    "            if current_fitness > best_fitness:\n",
    "                best_tour = current_tour\n",
    "                best_fitness = current_fitness\n",
    "\n",
    "    return best_tour\n",
    "\n",
    "# Run the hill climbing algorithm\n",
    "hill_climbing_tour = hill_climbing_tsp()\n",
    "hill_climbing_distance = compute_tour_distance(hill_climbing_tour)\n",
    "\n",
    "# Display results\n",
    "print(\"Hill Climbing Algorithm Results:\")\n",
    "print(f\"Tour: {hill_climbing_tour}\")\n",
    "print(f\"Total Distance: {hill_climbing_distance:.2f} km\")\n",
    "print(f\"Is valid tour: {'Yes' if is_valid_tour(hill_climbing_tour) else 'No'}\")"
   ]
  },
  {
   "cell_type": "code",
   "execution_count": 5,
   "metadata": {},
   "outputs": [
    {
     "name": "stdout",
     "output_type": "stream",
     "text": [
      "Sample tour: [0, 1, 2, 3, 0]\n",
      "Sample tour distance (should be a scalar value): 1555.894611287607\n",
      "Type of sample tour distance: <class 'float'>\n"
     ]
    }
   ],
   "source": [
    "# Test with a sample tour\n",
    "sample_tour = [0, 1, 2, 3, 0]  # Adjust this based on the size of your `CITIES` dataset if necessary\n",
    "print(\"Sample tour:\", sample_tour)\n",
    "\n",
    "# Compute the distance and check the output type\n",
    "sample_distance = compute_tour_distance(sample_tour)\n",
    "print(\"Sample tour distance (should be a scalar value):\", sample_distance)\n",
    "print(\"Type of sample tour distance:\", type(sample_distance))\n"
   ]
  },
  {
   "cell_type": "markdown",
   "metadata": {},
   "source": [
    "## Section 5: More Advanced Solution - Genetic Algorithm"
   ]
  },
  {
   "cell_type": "code",
   "execution_count": 10,
   "metadata": {},
   "outputs": [
    {
     "name": "stderr",
     "output_type": "stream",
     "text": [
      "GA Generations: 100%|██████████| 10/10 [00:00<00:00, 1938.04it/s]"
     ]
    },
    {
     "name": "stdout",
     "output_type": "stream",
     "text": [
      "Genetic Algorithm Results:\n",
      "Tour: [0, 1, 2, 3, 4, 5, 6, 7, 8, 11, 13, 14, 15, 9, 10, 19, 20, 16, 23, 12, 24, 17, 18, 21, 22, 26, 27, 28, 29, 25, 39, 38, 37, 36, 35, 34, 33, 32, 31, 30, 40, 41, 42, 43, 44, 45, 0]\n",
      "Total Distance: 16999.63 km\n",
      "Is valid tour: Yes\n"
     ]
    },
    {
     "name": "stderr",
     "output_type": "stream",
     "text": [
      "\n"
     ]
    }
   ],
   "source": [
    "@dataclass\n",
    "class Individual:\n",
    "    genome: list = None\n",
    "    fitness: float = None\n",
    "\n",
    "    def calculate_fitness(self):\n",
    "        \"\"\" Calculate the fitness as the negative tour distance\"\"\"\n",
    "        if self.genome:\n",
    "            self.fitness = -compute_tour_distance(self.genome)\n",
    "        else:\n",
    "            self.fitness = float('-inf')\n",
    "\n",
    "# Crossover function: Order Crossover with validity check\n",
    "def order_crossover(parent1, parent2):\n",
    "    \"\"\"Perform order crossover between two parents.\"\"\"\n",
    "    size = len(parent1.genome)\n",
    "    start, end = sorted(random.sample(range(1, size - 1), 2))  # Avoid selecting the last city (cycle closure)\n",
    "    child_genome = [None] * size\n",
    "    child_genome[start:end] = parent1.genome[start:end]\n",
    "    \n",
    "    # Fill in the missing genes\n",
    "    missing_genes = [gene for gene in parent2.genome if gene not in child_genome]\n",
    "    missing_genes_iter = iter(missing_genes)\n",
    "    for i in range(size - 1):  # Leave the last city for cycle completion\n",
    "        if child_genome[i] is None:\n",
    "            child_genome[i] = next(missing_genes_iter)\n",
    "    \n",
    "    # Complete the cycle\n",
    "    child_genome[-1] = child_genome[0]\n",
    "\n",
    "    return Individual(genome=child_genome)\n",
    "\n",
    "# Mutation function: Inversion Mutation with validation\n",
    "def inversion_mutation(individual):\n",
    "    \"\"\"Perform inversion mutation on an individual.\"\"\"\n",
    "    idx1, idx2 = sorted(random.sample(range(1, len(individual.genome) - 1), 2))  # Avoid mutating the last city\n",
    "    individual.genome[idx1:idx2+1] = reversed(individual.genome[idx1:idx2+1])\n",
    "    individual.calculate_fitness()\n",
    "    return individual\n",
    "\n",
    "# Genetic Algorithm function with debug\n",
    "def genetic_algorithm(num_individuals=10, num_generations=10, mutation_rate=0.1):\n",
    "    \"\"\"Initialize population with random individuals \"\"\"\n",
    "    population = [Individual(genome=list(range(NUM_CITIES)) + [0]) for _ in range(num_individuals)]\n",
    "    for individual in population:\n",
    "        random.shuffle(individual.genome[:-1])  # Shuffle without altering the last city (cycle completion)\n",
    "        individual.calculate_fitness()\n",
    "\n",
    "    for generation in tqdm(range(num_generations), desc=\"GA Generations\"):\n",
    "        new_population = []\n",
    "\n",
    "        while len(new_population) < num_individuals:\n",
    "            parent1, parent2 = random.choices(population, k=2)\n",
    "            child = order_crossover(parent1, parent2)\n",
    "            \n",
    "            # Apply mutation with a certain probability\n",
    "            if random.random() < mutation_rate:\n",
    "                child = inversion_mutation(child)\n",
    "            \n",
    "            child.calculate_fitness()\n",
    "            new_population.append(child)\n",
    "\n",
    "        population = sorted(new_population, key=lambda ind: ind.fitness, reverse=True)[:num_individuals]\n",
    "    \n",
    "    best_individual = max(population, key=lambda ind: ind.fitness)\n",
    "    return best_individual\n",
    "\n",
    "# Run the Genetic Algorithm\n",
    "ga_result = genetic_algorithm()\n",
    "ga_tour = ga_result.genome\n",
    "ga_distance = compute_tour_distance(ga_tour)\n",
    "\n",
    "# Display results\n",
    "print(\"Genetic Algorithm Results:\")\n",
    "print(f\"Tour: {ga_tour}\")\n",
    "print(f\"Total Distance: {ga_distance:.2f} km\")\n",
    "print(f\"Is valid tour: {'Yes' if is_valid_tour(ga_tour) else 'No'}\")\n"
   ]
  },
  {
   "cell_type": "markdown",
   "metadata": {},
   "source": [
    "## Section 6: Comparison of Results"
   ]
  },
  {
   "cell_type": "code",
   "execution_count": 8,
   "metadata": {},
   "outputs": [
    {
     "name": "stdout",
     "output_type": "stream",
     "text": [
      "Comparison of TSP Approaches:\n",
      "Greedy Algorithm Distance: 4436.03 km\n",
      "Hill Climbing Distance: 7111.20 km\n",
      "Genetic Algorithm Distance: 17448.72 km\n"
     ]
    },
    {
     "data": {
      "image/png": "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",
      "text/plain": [
       "<Figure size 1000x600 with 1 Axes>"
      ]
     },
     "metadata": {},
     "output_type": "display_data"
    }
   ],
   "source": [
    "# Display a comparison of the distances from each approach\n",
    "print(\"Comparison of TSP Approaches:\")\n",
    "print(f\"Greedy Algorithm Distance: {greedy_distance:.2f} km\")\n",
    "print(f\"Hill Climbing Distance: {hill_climbing_distance:.2f} km\")\n",
    "print(f\"Genetic Algorithm Distance: {ga_distance:.2f} km\")\n",
    "\n",
    "# Plot the results\n",
    "labels = ['Greedy', 'Hill Climbing', 'Genetic Algorithm']\n",
    "distances = [greedy_distance, hill_climbing_distance, ga_distance]\n",
    "\n",
    "plt.figure(figsize=(10, 6))\n",
    "plt.bar(labels, distances, color=['skyblue', 'salmon', 'lightgreen'])\n",
    "plt.ylabel(\"Total Distance (km)\")\n",
    "plt.title(\"Comparison of TSP Approaches\")\n",
    "plt.show()"
   ]
  },
  {
   "cell_type": "markdown",
   "metadata": {},
   "source": [
    "## Conclusion\n",
    "\n",
    "In conclusion, each method has its strengths and weaknesses:\n",
    "- Greedy algorithms are fast but  lack accuracy.\n",
    "- Hill Climbing improves on Greedy results but is limited by local optima.\n",
    "- Genetic Algorithms provide a balance between exploration and exploitation, often resulting in better overall optimization.\n",
    "\n",
    "Based on the results, the Genetic Algorithm generally outperforms the other approaches in terms of achieving a shorter total distance, though it requires more computational effort.\n"
   ]
  }
 ],
 "metadata": {
  "kernelspec": {
   "display_name": "Python 3",
   "language": "python",
   "name": "python3"
  },
  "language_info": {
   "codemirror_mode": {
    "name": "ipython",
    "version": 3
   },
   "file_extension": ".py",
   "mimetype": "text/x-python",
   "name": "python",
   "nbconvert_exporter": "python",
   "pygments_lexer": "ipython3",
   "version": "3.11.9"
  }
 },
 "nbformat": 4,
 "nbformat_minor": 2
}
